{
 "cells": [
  {
   "cell_type": "code",
   "execution_count": 1,
   "metadata": {},
   "outputs": [],
   "source": [
    "import glob"
   ]
  },
  {
   "cell_type": "code",
   "execution_count": 2,
   "metadata": {},
   "outputs": [],
   "source": [
    "reviews_dir = './data_ml_2020/movies_reviews'"
   ]
  },
  {
   "cell_type": "code",
   "execution_count": 10,
   "metadata": {},
   "outputs": [],
   "source": [
    "negative_reviews = []\n",
    "positive_reviews = []\n",
    "\n",
    "for file in glob.glob(reviews_dir + \"/neg/*.txt\"):\n",
    "    with open(file, \"r\") as f:\n",
    "        negative_reviews.append(f.read().replace(\"\\n\", \"\"))\n",
    "        \n",
    "for file in glob.glob(reviews_dir + \"/pos/*.txt\"):\n",
    "    with open(file, \"r\") as f:\n",
    "        positive_reviews.append(f.read().replace(\"\\n\", \"\"))"
   ]
  },
  {
   "cell_type": "markdown",
   "metadata": {},
   "source": [
    "Use Glob to get the file paths and add them to an array.\n",
    "\n",
    "Then match them with 0 or 1. 0 if they are negative, 1 if they are positive."
   ]
  },
  {
   "cell_type": "code",
   "execution_count": 69,
   "metadata": {},
   "outputs": [],
   "source": [
    "import numpy as np\n",
    "\n",
    "X = np.concatenate((negative_reviews, positive_reviews))\n",
    "Y = np.concatenate((np.zeros((len(negative_reviews))), np.ones((len(positive_reviews)))))"
   ]
  },
  {
   "cell_type": "code",
   "execution_count": 108,
   "metadata": {},
   "outputs": [],
   "source": [
    "from sklearn.model_selection import train_test_split\n",
    "\n",
    "X_train, X_test, Y_train, Y_test = train_test_split(X, Y,test_size=0.4,random_state=20)"
   ]
  },
  {
   "cell_type": "markdown",
   "metadata": {},
   "source": [
    "CountVectorizer transforms the dataset into a vector matrix (counts each word). Then, the TfidfTransformer reduces the impact of common words such as \"The\". This is the transformation step where we get data ready for modeling."
   ]
  },
  {
   "cell_type": "code",
   "execution_count": 109,
   "metadata": {},
   "outputs": [],
   "source": [
    "from sklearn.feature_extraction.text import CountVectorizer, TfidfTransformer\n",
    "\n",
    "cv = CountVectorizer()\n",
    "X_train_cv = cv.fit_transform(X_train)\n",
    "\n",
    "tf_trans = TfidfTransformer()\n",
    "X_train_tf = tf_trans.fit_transform(X_train_cv)"
   ]
  },
  {
   "cell_type": "markdown",
   "metadata": {},
   "source": [
    "The docs suggest using either MultinomialNB or ComplementNB. I decided to use both to test which one is better.\n",
    "As you can see from the results below, CNB has a slight edge over the MNB, so if I was to only use one for a dataset that required more training I'd definitely use CNB."
   ]
  },
  {
   "cell_type": "code",
   "execution_count": 110,
   "metadata": {},
   "outputs": [],
   "source": [
    "from sklearn.naive_bayes import MultinomialNB, ComplementNB\n",
    "from sklearn.metrics import accuracy_score\n",
    "\n",
    "mnb_model = MultinomialNB().fit(X_train_tf, Y_train)\n",
    "cnb_model = ComplementNB().fit(X_train_tf, Y_train)"
   ]
  },
  {
   "cell_type": "code",
   "execution_count": 73,
   "metadata": {},
   "outputs": [
    {
     "name": "stdout",
     "output_type": "stream",
     "text": [
      "Score for MNB: 0.9638403990024937\n",
      "Score for CNB: 0.970074812967581\n",
      "Accuracy Score for MNB: 0.9638403990024937\n",
      "Accuracy Score for CNB: 0.970074812967581\n"
     ]
    }
   ],
   "source": [
    "print(f\"Score for MNB: {mnb_model.score(X_train_tf, Y_train)}\")\n",
    "print(f\"Score for CNB: {cnb_model.score(X_train_tf, Y_train)}\")\n",
    "\n",
    "print(f\"Accuracy Score for MNB: {accuracy_score(Y_train, mnb_model.predict(X_train_tf))}\")\n",
    "print(f\"Accuracy Score for CNB: {accuracy_score(Y_train, cnb_model.predict(X_train_tf))}\")"
   ]
  },
  {
   "cell_type": "code",
   "execution_count": 111,
   "metadata": {},
   "outputs": [
    {
     "name": "stdout",
     "output_type": "stream",
     "text": [
      "Score for MNB: 0.6807980049875312\n",
      "Score for CNB: 0.729426433915212\n",
      "Accuracy for MNB: 0.6807980049875312\n",
      "Accuracy for CNB: 0.729426433915212\n"
     ]
    }
   ],
   "source": [
    "X_test_cv = cv.transform(X_test)\n",
    "X_test_tf = tf_trans.transform(X_test_cv)\n",
    "\n",
    "print(f\"Score for MNB: {mnb_model.score(X_test_tf, Y_test)}\")\n",
    "print(f\"Score for CNB: {cnb_model.score(X_test_tf, Y_test)}\")\n",
    "\n",
    "print(f\"Accuracy for MNB: {accuracy_score(Y_test, mnb_model.predict(X_test_tf))}\")\n",
    "print(f\"Accuracy for CNB: {accuracy_score(Y_test, cnb_model.predict(X_test_tf))}\")"
   ]
  },
  {
   "cell_type": "code",
   "execution_count": 112,
   "metadata": {},
   "outputs": [],
   "source": [
    "import os\n",
    "\n",
    "predict_reviews = []\n",
    "predict_data = []\n",
    "for file in glob.glob(reviews_dir + \"/review/*.txt\"):\n",
    "    with open(file, \"r\", encoding=\"utf8\") as f:\n",
    "        predict_reviews.append(f.read().replace(\"\\n\", \"\"))\n",
    "    filename = os.path.splitext(os.path.basename(file))[0]\n",
    "    title = \" \".join([word.capitalize() for word in filename.split(\" \")[0].replace(\"_\", \" \").split(\" \")])\n",
    "    rating = filename.split(\" \")[1].replace(\"p\", \".\").replace(\"o\", \"/\")\n",
    "    predict_data.append({\"title\": title, \"rating\": rating})"
   ]
  },
  {
   "cell_type": "code",
   "execution_count": 113,
   "metadata": {},
   "outputs": [
    {
     "name": "stdout",
     "output_type": "stream",
     "text": [
      "Dick Johnson Is Dead | (9/10) | Positive\n",
      "Face To Face | (3/5) | Positive\n",
      "Godmothered | (1/5) | Positive\n",
      "Sweet Bean | (5/5) | Positive\n",
      "The Truth | (3.5/5) | Positive\n"
     ]
    }
   ],
   "source": [
    "X_predict_cv = cv.transform(predict_reviews)\n",
    "X_predict_tf = tf_trans.transform(X_predict_cv)\n",
    "\n",
    "prediction = mnb_model.predict(X_predict_tf)\n",
    "\n",
    "def predict(i: int) -> str:\n",
    "    if i == 0:\n",
    "        return \"Negative\"\n",
    "    if i == 1:\n",
    "        return \"Positive\"\n",
    "\n",
    "i = 0\n",
    "for p in prediction:\n",
    "    print(f\"{predict_data[i]['title']} | {predict_data[i]['rating']} | {predict(p)}\")\n",
    "    i += 1"
   ]
  },
  {
   "cell_type": "code",
   "execution_count": 114,
   "metadata": {},
   "outputs": [
    {
     "name": "stdout",
     "output_type": "stream",
     "text": [
      "Dick Johnson Is Dead | (9/10) | Positive\n",
      "Face To Face | (3/5) | Positive\n",
      "Godmothered | (1/5) | Positive\n",
      "Sweet Bean | (5/5) | Positive\n",
      "The Truth | (3.5/5) | Positive\n"
     ]
    }
   ],
   "source": [
    "prediction = cnb_model.predict(X_predict_tf)\n",
    "\n",
    "i = 0\n",
    "for p in prediction:\n",
    "    print(f\"{predict_data[i]['title']} | {predict_data[i]['rating']} | {predict(p)}\")\n",
    "    i += 1"
   ]
  },
  {
   "cell_type": "markdown",
   "metadata": {},
   "source": [
    "All the reviews were above average except for Godmothered, but when I looked at the review, although it was very cruel about the movie a majority of the review was dedicated to praise for the star Jillian Bell. So even though the review was overall negative, I can see why the model decided to assign it a 'positive' rating - because it was (in a way)...\n",
    "\n",
    "Maybe with more training it would properly predict that dataset."
   ]
  },
  {
   "cell_type": "code",
   "execution_count": null,
   "metadata": {},
   "outputs": [],
   "source": []
  }
 ],
 "metadata": {
  "kernelspec": {
   "display_name": "Python 3",
   "language": "python",
   "name": "python3"
  },
  "language_info": {
   "codemirror_mode": {
    "name": "ipython",
    "version": 3
   },
   "file_extension": ".py",
   "mimetype": "text/x-python",
   "name": "python",
   "nbconvert_exporter": "python",
   "pygments_lexer": "ipython3",
   "version": "3.8.3"
  }
 },
 "nbformat": 4,
 "nbformat_minor": 4
}
